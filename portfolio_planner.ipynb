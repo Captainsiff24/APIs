{
 "cells": [
  {
   "cell_type": "code",
   "execution_count": 1,
   "metadata": {},
   "outputs": [],
   "source": [
    "import numpy as np\n",
    "import pandas as pd\n",
    "from datetime import datetime, timedelta\n",
    "import matplotlib.pyplot as plt\n",
    "import alpaca_trade_api as tradeapi\n",
    "%matplotlib inline"
   ]
  },
  {
   "cell_type": "code",
   "execution_count": 2,
   "metadata": {},
   "outputs": [],
   "source": [
    "np.random.seed(42)"
   ]
  },
  {
   "cell_type": "markdown",
   "metadata": {},
   "source": [
    "# Portfolio Planner\n",
    "\n",
    "In this activity, you will use the iexfinance api to grab historical data for a 60/40 portfolio using `SPY` to represent the stock portion and `AGG` to represent the bonds."
   ]
  },
  {
   "cell_type": "code",
   "execution_count": 3,
   "metadata": {},
   "outputs": [],
   "source": [
    "from iexfinance.stocks import get_historical_data\n",
    "import iexfinance as iex\n",
    "alpaca_api_key = \"PKHSQELQK6KRN1DZ1M0K\"\n",
    "alpaca_secret_key =\"fYPXkkBb4NxUJvlvmS3tnHGNRkBp97wSxaiGyUor\"\n",
    "\n",
    "api = tradeapi.REST(alpaca_api_key, alpaca_secret_key, api_version='v2')"
   ]
  },
  {
   "cell_type": "code",
   "execution_count": null,
   "metadata": {},
   "outputs": [],
   "source": []
  },
  {
   "cell_type": "markdown",
   "metadata": {},
   "source": [
    "# Data Collection\n",
    "\n",
    "In this step, you will need to use the IEX api to fetch closing prices for the `SPY` and `AGG` tickers. Save the results as a pandas DataFrame"
   ]
  },
  {
   "cell_type": "code",
   "execution_count": 4,
   "metadata": {},
   "outputs": [
    {
     "data": {
      "text/html": [
       "<div>\n",
       "<style scoped>\n",
       "    .dataframe tbody tr th:only-of-type {\n",
       "        vertical-align: middle;\n",
       "    }\n",
       "\n",
       "    .dataframe tbody tr th {\n",
       "        vertical-align: top;\n",
       "    }\n",
       "\n",
       "    .dataframe thead tr th {\n",
       "        text-align: left;\n",
       "    }\n",
       "\n",
       "    .dataframe thead tr:last-of-type th {\n",
       "        text-align: right;\n",
       "    }\n",
       "</style>\n",
       "<table border=\"1\" class=\"dataframe\">\n",
       "  <thead>\n",
       "    <tr>\n",
       "      <th></th>\n",
       "      <th colspan=\"5\" halign=\"left\">AGG</th>\n",
       "      <th colspan=\"5\" halign=\"left\">SPY</th>\n",
       "    </tr>\n",
       "    <tr>\n",
       "      <th></th>\n",
       "      <th>open</th>\n",
       "      <th>high</th>\n",
       "      <th>low</th>\n",
       "      <th>close</th>\n",
       "      <th>volume</th>\n",
       "      <th>open</th>\n",
       "      <th>high</th>\n",
       "      <th>low</th>\n",
       "      <th>close</th>\n",
       "      <th>volume</th>\n",
       "    </tr>\n",
       "    <tr>\n",
       "      <th>time</th>\n",
       "      <th></th>\n",
       "      <th></th>\n",
       "      <th></th>\n",
       "      <th></th>\n",
       "      <th></th>\n",
       "      <th></th>\n",
       "      <th></th>\n",
       "      <th></th>\n",
       "      <th></th>\n",
       "      <th></th>\n",
       "    </tr>\n",
       "  </thead>\n",
       "  <tbody>\n",
       "    <tr>\n",
       "      <th>2019-12-04 00:00:00-05:00</th>\n",
       "      <td>112.87</td>\n",
       "      <td>112.95</td>\n",
       "      <td>112.680</td>\n",
       "      <td>112.80</td>\n",
       "      <td>3547118</td>\n",
       "      <td>310.70</td>\n",
       "      <td>312.12</td>\n",
       "      <td>310.32</td>\n",
       "      <td>311.47</td>\n",
       "      <td>37810887</td>\n",
       "    </tr>\n",
       "    <tr>\n",
       "      <th>2019-12-05 00:00:00-05:00</th>\n",
       "      <td>112.58</td>\n",
       "      <td>112.74</td>\n",
       "      <td>112.530</td>\n",
       "      <td>112.69</td>\n",
       "      <td>3052489</td>\n",
       "      <td>312.23</td>\n",
       "      <td>312.25</td>\n",
       "      <td>310.58</td>\n",
       "      <td>312.05</td>\n",
       "      <td>34436972</td>\n",
       "    </tr>\n",
       "    <tr>\n",
       "      <th>2019-12-06 00:00:00-05:00</th>\n",
       "      <td>112.47</td>\n",
       "      <td>112.68</td>\n",
       "      <td>112.410</td>\n",
       "      <td>112.54</td>\n",
       "      <td>4065089</td>\n",
       "      <td>314.12</td>\n",
       "      <td>315.31</td>\n",
       "      <td>314.11</td>\n",
       "      <td>314.84</td>\n",
       "      <td>37930796</td>\n",
       "    </tr>\n",
       "    <tr>\n",
       "      <th>2019-12-09 00:00:00-05:00</th>\n",
       "      <td>112.69</td>\n",
       "      <td>112.72</td>\n",
       "      <td>112.565</td>\n",
       "      <td>112.58</td>\n",
       "      <td>4416131</td>\n",
       "      <td>314.44</td>\n",
       "      <td>315.18</td>\n",
       "      <td>313.80</td>\n",
       "      <td>313.87</td>\n",
       "      <td>28676682</td>\n",
       "    </tr>\n",
       "    <tr>\n",
       "      <th>2019-12-10 00:00:00-05:00</th>\n",
       "      <td>112.67</td>\n",
       "      <td>112.67</td>\n",
       "      <td>112.490</td>\n",
       "      <td>112.54</td>\n",
       "      <td>2689383</td>\n",
       "      <td>313.82</td>\n",
       "      <td>314.55</td>\n",
       "      <td>312.81</td>\n",
       "      <td>313.55</td>\n",
       "      <td>40282469</td>\n",
       "    </tr>\n",
       "  </tbody>\n",
       "</table>\n",
       "</div>"
      ],
      "text/plain": [
       "                              AGG                                       SPY  \\\n",
       "                             open    high      low   close   volume    open   \n",
       "time                                                                          \n",
       "2019-12-04 00:00:00-05:00  112.87  112.95  112.680  112.80  3547118  310.70   \n",
       "2019-12-05 00:00:00-05:00  112.58  112.74  112.530  112.69  3052489  312.23   \n",
       "2019-12-06 00:00:00-05:00  112.47  112.68  112.410  112.54  4065089  314.12   \n",
       "2019-12-09 00:00:00-05:00  112.69  112.72  112.565  112.58  4416131  314.44   \n",
       "2019-12-10 00:00:00-05:00  112.67  112.67  112.490  112.54  2689383  313.82   \n",
       "\n",
       "                                                             \n",
       "                             high     low   close    volume  \n",
       "time                                                         \n",
       "2019-12-04 00:00:00-05:00  312.12  310.32  311.47  37810887  \n",
       "2019-12-05 00:00:00-05:00  312.25  310.58  312.05  34436972  \n",
       "2019-12-06 00:00:00-05:00  315.31  314.11  314.84  37930796  \n",
       "2019-12-09 00:00:00-05:00  315.18  313.80  313.87  28676682  \n",
       "2019-12-10 00:00:00-05:00  314.55  312.81  313.55  40282469  "
      ]
     },
     "execution_count": 4,
     "metadata": {},
     "output_type": "execute_result"
    }
   ],
   "source": [
    "list_of_tickers = [\"SPY\", \"AGG\"]\n",
    "# YOUR CODE HERE\n",
    "timeframe = '1D'\n",
    "\n",
    "#end_date = datetime.now()\n",
    "end_date = datetime.now()\n",
    "start_date = end_date + timedelta(-365)\n",
    "\n",
    "# Get 1 year's worth of historical data for SPY & AGG\n",
    "historical_data = api.get_barset(\n",
    "    list_of_tickers,\n",
    "    '1D',\n",
    "    limit=None,\n",
    "    start=start_date,\n",
    "    end=end_date,\n",
    "    after=None,\n",
    "    until=None,\n",
    ").df\n",
    "\n",
    "historical_data.head()"
   ]
  },
  {
   "cell_type": "code",
   "execution_count": 5,
   "metadata": {},
   "outputs": [
    {
     "data": {
      "text/html": [
       "<div>\n",
       "<style scoped>\n",
       "    .dataframe tbody tr th:only-of-type {\n",
       "        vertical-align: middle;\n",
       "    }\n",
       "\n",
       "    .dataframe tbody tr th {\n",
       "        vertical-align: top;\n",
       "    }\n",
       "\n",
       "    .dataframe thead tr th {\n",
       "        text-align: left;\n",
       "    }\n",
       "\n",
       "    .dataframe thead tr:last-of-type th {\n",
       "        text-align: right;\n",
       "    }\n",
       "</style>\n",
       "<table border=\"1\" class=\"dataframe\">\n",
       "  <thead>\n",
       "    <tr>\n",
       "      <th></th>\n",
       "      <th>AGG</th>\n",
       "      <th>SPY</th>\n",
       "    </tr>\n",
       "    <tr>\n",
       "      <th></th>\n",
       "      <th>close</th>\n",
       "      <th>close</th>\n",
       "    </tr>\n",
       "    <tr>\n",
       "      <th>time</th>\n",
       "      <th></th>\n",
       "      <th></th>\n",
       "    </tr>\n",
       "  </thead>\n",
       "  <tbody>\n",
       "    <tr>\n",
       "      <th>2019-12-04 00:00:00-05:00</th>\n",
       "      <td>112.80</td>\n",
       "      <td>311.47</td>\n",
       "    </tr>\n",
       "    <tr>\n",
       "      <th>2019-12-05 00:00:00-05:00</th>\n",
       "      <td>112.69</td>\n",
       "      <td>312.05</td>\n",
       "    </tr>\n",
       "    <tr>\n",
       "      <th>2019-12-06 00:00:00-05:00</th>\n",
       "      <td>112.54</td>\n",
       "      <td>314.84</td>\n",
       "    </tr>\n",
       "    <tr>\n",
       "      <th>2019-12-09 00:00:00-05:00</th>\n",
       "      <td>112.58</td>\n",
       "      <td>313.87</td>\n",
       "    </tr>\n",
       "    <tr>\n",
       "      <th>2019-12-10 00:00:00-05:00</th>\n",
       "      <td>112.54</td>\n",
       "      <td>313.55</td>\n",
       "    </tr>\n",
       "  </tbody>\n",
       "</table>\n",
       "</div>"
      ],
      "text/plain": [
       "                              AGG     SPY\n",
       "                            close   close\n",
       "time                                     \n",
       "2019-12-04 00:00:00-05:00  112.80  311.47\n",
       "2019-12-05 00:00:00-05:00  112.69  312.05\n",
       "2019-12-06 00:00:00-05:00  112.54  314.84\n",
       "2019-12-09 00:00:00-05:00  112.58  313.87\n",
       "2019-12-10 00:00:00-05:00  112.54  313.55"
      ]
     },
     "execution_count": 5,
     "metadata": {},
     "output_type": "execute_result"
    }
   ],
   "source": [
    "# Use the `drop` function with the `level` parameter to drop extra columns in the multi-index DataFrame\n",
    "historical_data.drop(columns=['open', 'high', 'low', 'volume'], level=1, inplace=True)\n",
    "historical_data.head()"
   ]
  },
  {
   "cell_type": "code",
   "execution_count": 6,
   "metadata": {},
   "outputs": [
    {
     "data": {
      "text/html": [
       "<div>\n",
       "<style scoped>\n",
       "    .dataframe tbody tr th:only-of-type {\n",
       "        vertical-align: middle;\n",
       "    }\n",
       "\n",
       "    .dataframe tbody tr th {\n",
       "        vertical-align: top;\n",
       "    }\n",
       "\n",
       "    .dataframe thead tr th {\n",
       "        text-align: left;\n",
       "    }\n",
       "\n",
       "    .dataframe thead tr:last-of-type th {\n",
       "        text-align: right;\n",
       "    }\n",
       "</style>\n",
       "<table border=\"1\" class=\"dataframe\">\n",
       "  <thead>\n",
       "    <tr>\n",
       "      <th></th>\n",
       "      <th>AGG</th>\n",
       "      <th>SPY</th>\n",
       "    </tr>\n",
       "    <tr>\n",
       "      <th></th>\n",
       "      <th>close</th>\n",
       "      <th>close</th>\n",
       "    </tr>\n",
       "    <tr>\n",
       "      <th>time</th>\n",
       "      <th></th>\n",
       "      <th></th>\n",
       "    </tr>\n",
       "  </thead>\n",
       "  <tbody>\n",
       "    <tr>\n",
       "      <th>2019-12-04 00:00:00-05:00</th>\n",
       "      <td>NaN</td>\n",
       "      <td>NaN</td>\n",
       "    </tr>\n",
       "    <tr>\n",
       "      <th>2019-12-05 00:00:00-05:00</th>\n",
       "      <td>-0.000975</td>\n",
       "      <td>0.001862</td>\n",
       "    </tr>\n",
       "    <tr>\n",
       "      <th>2019-12-06 00:00:00-05:00</th>\n",
       "      <td>-0.001331</td>\n",
       "      <td>0.008941</td>\n",
       "    </tr>\n",
       "    <tr>\n",
       "      <th>2019-12-09 00:00:00-05:00</th>\n",
       "      <td>0.000355</td>\n",
       "      <td>-0.003081</td>\n",
       "    </tr>\n",
       "    <tr>\n",
       "      <th>2019-12-10 00:00:00-05:00</th>\n",
       "      <td>-0.000355</td>\n",
       "      <td>-0.001020</td>\n",
       "    </tr>\n",
       "  </tbody>\n",
       "</table>\n",
       "</div>"
      ],
      "text/plain": [
       "                                AGG       SPY\n",
       "                              close     close\n",
       "time                                         \n",
       "2019-12-04 00:00:00-05:00       NaN       NaN\n",
       "2019-12-05 00:00:00-05:00 -0.000975  0.001862\n",
       "2019-12-06 00:00:00-05:00 -0.001331  0.008941\n",
       "2019-12-09 00:00:00-05:00  0.000355 -0.003081\n",
       "2019-12-10 00:00:00-05:00 -0.000355 -0.001020"
      ]
     },
     "execution_count": 6,
     "metadata": {},
     "output_type": "execute_result"
    }
   ],
   "source": [
    "daily_returns = historical_data.pct_change()\n",
    "daily_returns.head()"
   ]
  },
  {
   "cell_type": "markdown",
   "metadata": {},
   "source": [
    "# Monte Carlo Simulation\n",
    "\n",
    "In this step, you will run Monte Carlo Simulations for your portfolio to model portfolio performance at different retirement ages. \n",
    "\n",
    "Complete the following steps:\n",
    "1. Calculate the daily returns for the SPY and AGG closing prices.\n",
    "2. Calculate volatility for both the SPY and AGG closing prices.\n",
    "3. Find the last day's closing price for both stocks and save those as variables.\n",
    "4. Run a Monte Carlo Simulation of at least 500 iterations and generate at least 30 years of closing prices\n",
    "\n",
    "### HINTS:\n",
    "There are 252 trading days per year, so the number of records to generate for each Monte Carlo run will be 252 days * 30 years"
   ]
  },
  {
   "cell_type": "code",
   "execution_count": 7,
   "metadata": {},
   "outputs": [
    {
     "data": {
      "text/plain": [
       "0.00042695715079726633"
      ]
     },
     "execution_count": 7,
     "metadata": {},
     "output_type": "execute_result"
    }
   ],
   "source": [
    "# Calculate the daily roi for the stocks\n",
    "# YOUR CODE HERE\n",
    "avg_daily_return_agg = daily_returns.mean()['AGG']['close']\n",
    "avg_daily_return_spy = daily_returns.mean()['SPY']['close']\n",
    "avg_daily_return_agg"
   ]
  },
  {
   "cell_type": "code",
   "execution_count": 8,
   "metadata": {},
   "outputs": [
    {
     "data": {
      "text/plain": [
       "0.008490708473337405"
      ]
     },
     "execution_count": 8,
     "metadata": {},
     "output_type": "execute_result"
    }
   ],
   "source": [
    "# Calculate volatility\n",
    "# YOUR CODE HERE\n",
    "std_dev_daily_return_agg = daily_returns.std()['AGG']['close']\n",
    "std_dev_daily_return_spy = daily_returns.std()['SPY']['close']\n",
    "std_dev_daily_return_agg"
   ]
  },
  {
   "cell_type": "code",
   "execution_count": 9,
   "metadata": {},
   "outputs": [],
   "source": [
    "# Save the last day's closing price\n",
    "# YOUR CODE HERE\n",
    "agg_last_price = historical_data['AGG']['close'][-1]\n",
    "spy_last_price = historical_data['SPY']['close'][-1]\n"
   ]
  },
  {
   "cell_type": "code",
   "execution_count": 10,
   "metadata": {},
   "outputs": [
    {
     "data": {
      "text/html": [
       "<div>\n",
       "<style scoped>\n",
       "    .dataframe tbody tr th:only-of-type {\n",
       "        vertical-align: middle;\n",
       "    }\n",
       "\n",
       "    .dataframe tbody tr th {\n",
       "        vertical-align: top;\n",
       "    }\n",
       "\n",
       "    .dataframe thead th {\n",
       "        text-align: right;\n",
       "    }\n",
       "</style>\n",
       "<table border=\"1\" class=\"dataframe\">\n",
       "  <thead>\n",
       "    <tr style=\"text-align: right;\">\n",
       "      <th></th>\n",
       "      <th>0</th>\n",
       "      <th>1</th>\n",
       "      <th>2</th>\n",
       "      <th>3</th>\n",
       "      <th>4</th>\n",
       "      <th>5</th>\n",
       "      <th>6</th>\n",
       "      <th>7</th>\n",
       "      <th>8</th>\n",
       "      <th>9</th>\n",
       "      <th>...</th>\n",
       "      <th>490</th>\n",
       "      <th>491</th>\n",
       "      <th>492</th>\n",
       "      <th>493</th>\n",
       "      <th>494</th>\n",
       "      <th>495</th>\n",
       "      <th>496</th>\n",
       "      <th>497</th>\n",
       "      <th>498</th>\n",
       "      <th>499</th>\n",
       "    </tr>\n",
       "  </thead>\n",
       "  <tbody>\n",
       "    <tr>\n",
       "      <th>0</th>\n",
       "      <td>1.000000</td>\n",
       "      <td>1.000000</td>\n",
       "      <td>1.000000</td>\n",
       "      <td>1.000000</td>\n",
       "      <td>1.000000</td>\n",
       "      <td>1.000000</td>\n",
       "      <td>1.000000</td>\n",
       "      <td>1.000000</td>\n",
       "      <td>1.000000</td>\n",
       "      <td>1.000000</td>\n",
       "      <td>...</td>\n",
       "      <td>1.000000</td>\n",
       "      <td>1.000000</td>\n",
       "      <td>1.000000</td>\n",
       "      <td>1.000000</td>\n",
       "      <td>1.000000</td>\n",
       "      <td>1.000000</td>\n",
       "      <td>1.000000</td>\n",
       "      <td>1.000000</td>\n",
       "      <td>1.000000</td>\n",
       "      <td>1.000000</td>\n",
       "    </tr>\n",
       "    <tr>\n",
       "      <th>1</th>\n",
       "      <td>1.000931</td>\n",
       "      <td>0.996647</td>\n",
       "      <td>0.990783</td>\n",
       "      <td>1.011251</td>\n",
       "      <td>1.030993</td>\n",
       "      <td>0.988447</td>\n",
       "      <td>0.997017</td>\n",
       "      <td>1.028855</td>\n",
       "      <td>1.001295</td>\n",
       "      <td>0.985893</td>\n",
       "      <td>...</td>\n",
       "      <td>1.004488</td>\n",
       "      <td>0.977062</td>\n",
       "      <td>1.007051</td>\n",
       "      <td>1.004649</td>\n",
       "      <td>0.987704</td>\n",
       "      <td>1.007822</td>\n",
       "      <td>0.999684</td>\n",
       "      <td>1.011118</td>\n",
       "      <td>0.995356</td>\n",
       "      <td>0.983216</td>\n",
       "    </tr>\n",
       "    <tr>\n",
       "      <th>2</th>\n",
       "      <td>1.023027</td>\n",
       "      <td>1.007453</td>\n",
       "      <td>1.000199</td>\n",
       "      <td>0.986743</td>\n",
       "      <td>1.025356</td>\n",
       "      <td>0.980329</td>\n",
       "      <td>0.983963</td>\n",
       "      <td>1.004454</td>\n",
       "      <td>0.997160</td>\n",
       "      <td>0.983355</td>\n",
       "      <td>...</td>\n",
       "      <td>1.013043</td>\n",
       "      <td>0.984078</td>\n",
       "      <td>1.010789</td>\n",
       "      <td>1.012464</td>\n",
       "      <td>0.989076</td>\n",
       "      <td>0.975192</td>\n",
       "      <td>1.000168</td>\n",
       "      <td>1.005882</td>\n",
       "      <td>0.988227</td>\n",
       "      <td>0.993721</td>\n",
       "    </tr>\n",
       "    <tr>\n",
       "      <th>3</th>\n",
       "      <td>1.018967</td>\n",
       "      <td>1.004275</td>\n",
       "      <td>1.000874</td>\n",
       "      <td>0.984915</td>\n",
       "      <td>1.018255</td>\n",
       "      <td>0.964050</td>\n",
       "      <td>0.994319</td>\n",
       "      <td>0.984029</td>\n",
       "      <td>0.995031</td>\n",
       "      <td>1.006834</td>\n",
       "      <td>...</td>\n",
       "      <td>1.013579</td>\n",
       "      <td>0.968760</td>\n",
       "      <td>1.013726</td>\n",
       "      <td>1.022408</td>\n",
       "      <td>0.972617</td>\n",
       "      <td>0.979056</td>\n",
       "      <td>1.014255</td>\n",
       "      <td>0.991772</td>\n",
       "      <td>0.994583</td>\n",
       "      <td>1.002078</td>\n",
       "    </tr>\n",
       "    <tr>\n",
       "      <th>4</th>\n",
       "      <td>1.036854</td>\n",
       "      <td>1.009965</td>\n",
       "      <td>1.008373</td>\n",
       "      <td>0.997437</td>\n",
       "      <td>1.032106</td>\n",
       "      <td>0.967137</td>\n",
       "      <td>1.004038</td>\n",
       "      <td>0.965881</td>\n",
       "      <td>1.002509</td>\n",
       "      <td>1.010431</td>\n",
       "      <td>...</td>\n",
       "      <td>1.006269</td>\n",
       "      <td>0.974746</td>\n",
       "      <td>1.012319</td>\n",
       "      <td>1.008140</td>\n",
       "      <td>0.978271</td>\n",
       "      <td>0.973580</td>\n",
       "      <td>1.002203</td>\n",
       "      <td>0.997928</td>\n",
       "      <td>0.991211</td>\n",
       "      <td>1.004198</td>\n",
       "    </tr>\n",
       "  </tbody>\n",
       "</table>\n",
       "<p>5 rows × 500 columns</p>\n",
       "</div>"
      ],
      "text/plain": [
       "        0         1         2         3         4         5         6    \\\n",
       "0  1.000000  1.000000  1.000000  1.000000  1.000000  1.000000  1.000000   \n",
       "1  1.000931  0.996647  0.990783  1.011251  1.030993  0.988447  0.997017   \n",
       "2  1.023027  1.007453  1.000199  0.986743  1.025356  0.980329  0.983963   \n",
       "3  1.018967  1.004275  1.000874  0.984915  1.018255  0.964050  0.994319   \n",
       "4  1.036854  1.009965  1.008373  0.997437  1.032106  0.967137  1.004038   \n",
       "\n",
       "        7         8         9    ...       490       491       492       493  \\\n",
       "0  1.000000  1.000000  1.000000  ...  1.000000  1.000000  1.000000  1.000000   \n",
       "1  1.028855  1.001295  0.985893  ...  1.004488  0.977062  1.007051  1.004649   \n",
       "2  1.004454  0.997160  0.983355  ...  1.013043  0.984078  1.010789  1.012464   \n",
       "3  0.984029  0.995031  1.006834  ...  1.013579  0.968760  1.013726  1.022408   \n",
       "4  0.965881  1.002509  1.010431  ...  1.006269  0.974746  1.012319  1.008140   \n",
       "\n",
       "        494       495       496       497       498       499  \n",
       "0  1.000000  1.000000  1.000000  1.000000  1.000000  1.000000  \n",
       "1  0.987704  1.007822  0.999684  1.011118  0.995356  0.983216  \n",
       "2  0.989076  0.975192  1.000168  1.005882  0.988227  0.993721  \n",
       "3  0.972617  0.979056  1.014255  0.991772  0.994583  1.002078  \n",
       "4  0.978271  0.973580  1.002203  0.997928  0.991211  1.004198  \n",
       "\n",
       "[5 rows x 500 columns]"
      ]
     },
     "execution_count": 10,
     "metadata": {},
     "output_type": "execute_result"
    }
   ],
   "source": [
    "# Setup the Monte Carlo Parameters\n",
    "number_simulations = 500\n",
    "number_records = 252 * 30\n",
    "\n",
    "simulated_price_df = pd.DataFrame()\n",
    "portfolio_cumulative_returns = pd.DataFrame()\n",
    "\n",
    "for n in range(number_simulations):\n",
    "\n",
    "    # Initialize the simulated prices list with the last closing price of `JNJ` and `MU`\n",
    "    simulated_agg_prices = [agg_last_price]\n",
    "    simulated_spy_prices = [spy_last_price]\n",
    "    \n",
    "    # Simulate the returns for 252 days\n",
    "    for i in range(number_records):\n",
    "        \n",
    "        # Calculate the simulated price using the last price within the list\n",
    "        simulated_agg_price = simulated_agg_prices[-1] * (1 + np.random.normal(avg_daily_return_agg, std_dev_daily_return_agg))\n",
    "        simulated_spy_price = simulated_spy_prices[-1] * (1 + np.random.normal(avg_daily_return_spy, std_dev_daily_return_spy))\n",
    "        \n",
    "        # Append the simulated price to the list\n",
    "        simulated_agg_prices.append(simulated_agg_price)\n",
    "        simulated_spy_prices.append(simulated_spy_price)\n",
    "    \n",
    "    # Append a simulated prices of each simulation to DataFrame\n",
    "    simulated_price_df[\"AGG prices\"] = pd.Series(simulated_agg_prices)\n",
    "    simulated_price_df[\"SPY prices\"] = pd.Series(simulated_spy_prices)\n",
    "    \n",
    "    # Calculate the daily returns of simulated prices\n",
    "    simulated_daily_returns = simulated_price_df.pct_change()\n",
    "    \n",
    "    # Set the portfolio weights (60% JNJ; 40% MU)\n",
    "    weights = [0.60, 0.40]\n",
    "\n",
    "    # Use the `dot` function with the weights to multiply weights with each column's simulated daily returns\n",
    "    portfolio_daily_returns = simulated_daily_returns.dot(weights)\n",
    "    \n",
    "    # Calculate the normalized, cumulative return series\n",
    "    portfolio_cumulative_returns[n] = (1 + portfolio_daily_returns.fillna(0)).cumprod()\n",
    "\n",
    "# Print records from the DataFrame\n",
    "portfolio_cumulative_returns.head()"
   ]
  },
  {
   "cell_type": "code",
   "execution_count": 11,
   "metadata": {},
   "outputs": [
    {
     "data": {
      "text/plain": [
       "[Text(0, 0.5, 'Cumulative Return'), Text(0.5, 0, 'No. of Days')]"
      ]
     },
     "execution_count": 11,
     "metadata": {},
     "output_type": "execute_result"
    },
    {
     "data": {
      "image/png": "[encoded data removed]",
      "text/plain": [
       "<Figure size 432x288 with 1 Axes>"
      ]
     },
     "metadata": {
      "needs_background": "light"
     },
     "output_type": "display_data"
    }
   ],
   "source": [
    "# Visualize the Simulation\n",
    "# YOUR CODE HERE\n",
    "plot_title = f\"{n+1} Simulations of Cumulative Portfolio Return Trajectories Over the Next 30 year\"\n",
    "\n",
    "ax = portfolio_cumulative_returns.plot(legend=None, title=plot_title)\n",
    "ax.set(xlabel='No. of Days', ylabel='Cumulative Return' )"
   ]
  },
  {
   "cell_type": "code",
   "execution_count": 12,
   "metadata": {},
   "outputs": [
    {
     "data": {
      "text/html": [
       "<div>\n",
       "<style scoped>\n",
       "    .dataframe tbody tr th:only-of-type {\n",
       "        vertical-align: middle;\n",
       "    }\n",
       "\n",
       "    .dataframe tbody tr th {\n",
       "        vertical-align: top;\n",
       "    }\n",
       "\n",
       "    .dataframe thead th {\n",
       "        text-align: right;\n",
       "    }\n",
       "</style>\n",
       "<table border=\"1\" class=\"dataframe\">\n",
       "  <thead>\n",
       "    <tr style=\"text-align: right;\">\n",
       "      <th></th>\n",
       "      <th>0</th>\n",
       "      <th>1</th>\n",
       "      <th>2</th>\n",
       "      <th>3</th>\n",
       "      <th>4</th>\n",
       "      <th>5</th>\n",
       "      <th>6</th>\n",
       "      <th>7</th>\n",
       "      <th>8</th>\n",
       "      <th>9</th>\n",
       "      <th>...</th>\n",
       "      <th>490</th>\n",
       "      <th>491</th>\n",
       "      <th>492</th>\n",
       "      <th>493</th>\n",
       "      <th>494</th>\n",
       "      <th>495</th>\n",
       "      <th>496</th>\n",
       "      <th>497</th>\n",
       "      <th>498</th>\n",
       "      <th>499</th>\n",
       "    </tr>\n",
       "  </thead>\n",
       "  <tbody>\n",
       "    <tr>\n",
       "      <th>7556</th>\n",
       "      <td>1.139617</td>\n",
       "      <td>0.766581</td>\n",
       "      <td>0.961972</td>\n",
       "      <td>0.538919</td>\n",
       "      <td>0.936719</td>\n",
       "      <td>6.710497</td>\n",
       "      <td>0.246567</td>\n",
       "      <td>1.840105</td>\n",
       "      <td>1.025316</td>\n",
       "      <td>0.738001</td>\n",
       "      <td>...</td>\n",
       "      <td>0.673635</td>\n",
       "      <td>1.542159</td>\n",
       "      <td>0.996799</td>\n",
       "      <td>0.644645</td>\n",
       "      <td>1.735558</td>\n",
       "      <td>10.381532</td>\n",
       "      <td>0.527906</td>\n",
       "      <td>9.998618</td>\n",
       "      <td>0.664445</td>\n",
       "      <td>0.816122</td>\n",
       "    </tr>\n",
       "    <tr>\n",
       "      <th>7557</th>\n",
       "      <td>1.130316</td>\n",
       "      <td>0.747598</td>\n",
       "      <td>0.955180</td>\n",
       "      <td>0.537420</td>\n",
       "      <td>0.935600</td>\n",
       "      <td>6.691156</td>\n",
       "      <td>0.241570</td>\n",
       "      <td>1.883142</td>\n",
       "      <td>1.020989</td>\n",
       "      <td>0.721721</td>\n",
       "      <td>...</td>\n",
       "      <td>0.666521</td>\n",
       "      <td>1.526924</td>\n",
       "      <td>1.001685</td>\n",
       "      <td>0.631773</td>\n",
       "      <td>1.733938</td>\n",
       "      <td>10.581169</td>\n",
       "      <td>0.533045</td>\n",
       "      <td>10.068745</td>\n",
       "      <td>0.672232</td>\n",
       "      <td>0.807556</td>\n",
       "    </tr>\n",
       "    <tr>\n",
       "      <th>7558</th>\n",
       "      <td>1.116350</td>\n",
       "      <td>0.744052</td>\n",
       "      <td>0.969403</td>\n",
       "      <td>0.538600</td>\n",
       "      <td>0.927489</td>\n",
       "      <td>6.754808</td>\n",
       "      <td>0.241768</td>\n",
       "      <td>1.899669</td>\n",
       "      <td>1.035127</td>\n",
       "      <td>0.719602</td>\n",
       "      <td>...</td>\n",
       "      <td>0.666130</td>\n",
       "      <td>1.540632</td>\n",
       "      <td>1.008418</td>\n",
       "      <td>0.627358</td>\n",
       "      <td>1.757772</td>\n",
       "      <td>10.543229</td>\n",
       "      <td>0.531949</td>\n",
       "      <td>9.822382</td>\n",
       "      <td>0.661457</td>\n",
       "      <td>0.807525</td>\n",
       "    </tr>\n",
       "    <tr>\n",
       "      <th>7559</th>\n",
       "      <td>1.107786</td>\n",
       "      <td>0.744460</td>\n",
       "      <td>0.973058</td>\n",
       "      <td>0.541416</td>\n",
       "      <td>0.946135</td>\n",
       "      <td>6.678551</td>\n",
       "      <td>0.239810</td>\n",
       "      <td>1.886001</td>\n",
       "      <td>1.019251</td>\n",
       "      <td>0.714958</td>\n",
       "      <td>...</td>\n",
       "      <td>0.670427</td>\n",
       "      <td>1.561324</td>\n",
       "      <td>0.986280</td>\n",
       "      <td>0.623885</td>\n",
       "      <td>1.780313</td>\n",
       "      <td>10.444546</td>\n",
       "      <td>0.536364</td>\n",
       "      <td>9.731978</td>\n",
       "      <td>0.651670</td>\n",
       "      <td>0.797212</td>\n",
       "    </tr>\n",
       "    <tr>\n",
       "      <th>7560</th>\n",
       "      <td>1.132695</td>\n",
       "      <td>0.754905</td>\n",
       "      <td>1.001512</td>\n",
       "      <td>0.547656</td>\n",
       "      <td>0.948390</td>\n",
       "      <td>6.675596</td>\n",
       "      <td>0.235271</td>\n",
       "      <td>1.869137</td>\n",
       "      <td>0.996990</td>\n",
       "      <td>0.711842</td>\n",
       "      <td>...</td>\n",
       "      <td>0.676026</td>\n",
       "      <td>1.546797</td>\n",
       "      <td>0.975301</td>\n",
       "      <td>0.630108</td>\n",
       "      <td>1.789236</td>\n",
       "      <td>10.430978</td>\n",
       "      <td>0.532968</td>\n",
       "      <td>9.497517</td>\n",
       "      <td>0.652979</td>\n",
       "      <td>0.806962</td>\n",
       "    </tr>\n",
       "  </tbody>\n",
       "</table>\n",
       "<p>5 rows × 500 columns</p>\n",
       "</div>"
      ],
      "text/plain": [
       "           0         1         2         3         4         5         6    \\\n",
       "7556  1.139617  0.766581  0.961972  0.538919  0.936719  6.710497  0.246567   \n",
       "7557  1.130316  0.747598  0.955180  0.537420  0.935600  6.691156  0.241570   \n",
       "7558  1.116350  0.744052  0.969403  0.538600  0.927489  6.754808  0.241768   \n",
       "7559  1.107786  0.744460  0.973058  0.541416  0.946135  6.678551  0.239810   \n",
       "7560  1.132695  0.754905  1.001512  0.547656  0.948390  6.675596  0.235271   \n",
       "\n",
       "           7         8         9    ...       490       491       492  \\\n",
       "7556  1.840105  1.025316  0.738001  ...  0.673635  1.542159  0.996799   \n",
       "7557  1.883142  1.020989  0.721721  ...  0.666521  1.526924  1.001685   \n",
       "7558  1.899669  1.035127  0.719602  ...  0.666130  1.540632  1.008418   \n",
       "7559  1.886001  1.019251  0.714958  ...  0.670427  1.561324  0.986280   \n",
       "7560  1.869137  0.996990  0.711842  ...  0.676026  1.546797  0.975301   \n",
       "\n",
       "           493       494        495       496        497       498       499  \n",
       "7556  0.644645  1.735558  10.381532  0.527906   9.998618  0.664445  0.816122  \n",
       "7557  0.631773  1.733938  10.581169  0.533045  10.068745  0.672232  0.807556  \n",
       "7558  0.627358  1.757772  10.543229  0.531949   9.822382  0.661457  0.807525  \n",
       "7559  0.623885  1.780313  10.444546  0.536364   9.731978  0.651670  0.797212  \n",
       "7560  0.630108  1.789236  10.430978  0.532968   9.497517  0.652979  0.806962  \n",
       "\n",
       "[5 rows x 500 columns]"
      ]
     },
     "execution_count": 12,
     "metadata": {},
     "output_type": "execute_result"
    }
   ],
   "source": [
    "portfolio_cumulative_returns.tail()"
   ]
  },
  {
   "cell_type": "code",
   "execution_count": 13,
   "metadata": {},
   "outputs": [
    {
     "data": {
      "text/plain": [
       "0       1.132695\n",
       "1       0.754905\n",
       "2       1.001512\n",
       "3       0.547656\n",
       "4       0.948390\n",
       "5       6.675596\n",
       "6       0.235271\n",
       "7       1.869137\n",
       "8       0.996990\n",
       "9       0.711842\n",
       "10      1.055607\n",
       "11      2.824970\n",
       "12      0.173642\n",
       "13      0.249983\n",
       "14      5.546695\n",
       "15      1.247401\n",
       "16      0.381781\n",
       "17      0.379705\n",
       "18      3.710122\n",
       "19      0.198378\n",
       "20      0.081314\n",
       "21      7.808163\n",
       "22      0.167963\n",
       "23      7.285612\n",
       "24      5.446922\n",
       "25      3.480165\n",
       "26      0.174077\n",
       "27      1.168787\n",
       "28      0.772685\n",
       "29      0.438858\n",
       "         ...    \n",
       "470     0.239577\n",
       "471     1.073202\n",
       "472     0.975304\n",
       "473     0.808836\n",
       "474     0.214475\n",
       "475     0.323174\n",
       "476     0.348374\n",
       "477     0.810227\n",
       "478     0.260456\n",
       "479     1.269340\n",
       "480     0.838057\n",
       "481     2.563074\n",
       "482     0.944523\n",
       "483     2.991760\n",
       "484     1.008252\n",
       "485     2.439537\n",
       "486     2.569070\n",
       "487     0.389160\n",
       "488     2.502510\n",
       "489     1.299320\n",
       "490     0.676026\n",
       "491     1.546797\n",
       "492     0.975301\n",
       "493     0.630108\n",
       "494     1.789236\n",
       "495    10.430978\n",
       "496     0.532968\n",
       "497     9.497517\n",
       "498     0.652979\n",
       "499     0.806962\n",
       "Name: 7560, Length: 500, dtype: float64"
      ]
     },
     "execution_count": 13,
     "metadata": {},
     "output_type": "execute_result"
    }
   ],
   "source": [
    "# Select the last row for the cumulative returns (cumulative returns at 30 years)\n",
    "# YOUR CODE HERE\n",
    "ending_cumulative_returns = portfolio_cumulative_returns.iloc[-1,:]\n",
    "ending_cumulative_returns"
   ]
  },
  {
   "cell_type": "code",
   "execution_count": 14,
   "metadata": {},
   "outputs": [
    {
     "data": {
      "text/plain": [
       "0      0.960499\n",
       "1      0.849396\n",
       "2      0.550603\n",
       "3      0.509354\n",
       "4      2.742488\n",
       "5      5.984162\n",
       "6      0.374811\n",
       "7      1.673460\n",
       "8      0.740548\n",
       "9      0.440542\n",
       "10     1.584626\n",
       "11     1.775720\n",
       "12     0.146298\n",
       "13     0.322349\n",
       "14     1.643242\n",
       "15     5.770855\n",
       "16     0.463799\n",
       "17     0.503356\n",
       "18     3.036194\n",
       "19     0.372656\n",
       "20     0.356367\n",
       "21     9.184026\n",
       "22     0.202408\n",
       "23     3.557455\n",
       "24     2.049821\n",
       "25     1.891186\n",
       "26     0.178172\n",
       "27     0.594121\n",
       "28     1.374009\n",
       "29     0.682968\n",
       "         ...   \n",
       "470    0.559309\n",
       "471    1.623786\n",
       "472    1.999294\n",
       "473    0.636084\n",
       "474    0.248412\n",
       "475    0.277015\n",
       "476    0.385427\n",
       "477    0.770722\n",
       "478    0.320895\n",
       "479    1.248252\n",
       "480    1.317982\n",
       "481    1.570102\n",
       "482    2.063042\n",
       "483    1.745510\n",
       "484    2.054230\n",
       "485    1.627901\n",
       "486    1.678145\n",
       "487    2.048834\n",
       "488    1.518577\n",
       "489    3.312224\n",
       "490    0.792462\n",
       "491    0.682917\n",
       "492    0.883750\n",
       "493    0.548499\n",
       "494    0.919542\n",
       "495    6.634403\n",
       "496    1.132157\n",
       "497    7.883067\n",
       "498    0.294735\n",
       "499    1.406389\n",
       "Name: 5040, Length: 500, dtype: float64"
      ]
     },
     "execution_count": 14,
     "metadata": {},
     "output_type": "execute_result"
    }
   ],
   "source": [
    "# Select the last row for the cumulative returns (cumulative returns at 20 years)\n",
    "# YOUR CODE HERE\n",
    "ending_cumulative_returns_20 = portfolio_cumulative_returns.iloc[20*252,:]\n",
    "ending_cumulative_returns_20"
   ]
  },
  {
   "cell_type": "code",
   "execution_count": 15,
   "metadata": {},
   "outputs": [
    {
     "data": {
      "text/plain": [
       "495    6.634403\n",
       "496    1.132157\n",
       "497    7.883067\n",
       "498    0.294735\n",
       "499    1.406389\n",
       "Name: 5040, dtype: float64"
      ]
     },
     "execution_count": 15,
     "metadata": {},
     "output_type": "execute_result"
    }
   ],
   "source": [
    "ending_cumulative_returns = ending_cumulative_returns_20.tail()\n",
    "ending_cumulative_returns"
   ]
  },
  {
   "cell_type": "code",
   "execution_count": 16,
   "metadata": {},
   "outputs": [
    {
     "data": {
      "text/plain": [
       "0.05    0.462220\n",
       "0.95    7.633334\n",
       "Name: 5040, dtype: float64"
      ]
     },
     "execution_count": 16,
     "metadata": {},
     "output_type": "execute_result"
    }
   ],
   "source": [
    "# Display the 90% confidence interval for the ending returns\n",
    "# YOUR CODE HERE\n",
    "confidence_interval = ending_cumulative_returns.quantile(q=[0.05, 0.95])\n",
    "confidence_interval"
   ]
  },
  {
   "cell_type": "code",
   "execution_count": 17,
   "metadata": {},
   "outputs": [
    {
     "data": {
      "text/plain": [
       "<matplotlib.lines.Line2D at 0x1d8fafdb8c8>"
      ]
     },
     "execution_count": 17,
     "metadata": {},
     "output_type": "execute_result"
    },
    {
     "data": {
      "image/png": "[encoded data removed]",
      "text/plain": [
       "<Figure size 432x288 with 1 Axes>"
      ]
     },
     "metadata": {
      "needs_background": "light"
     },
     "output_type": "display_data"
    }
   ],
   "source": [
    "# Visualize the distribution of the ending returns\n",
    "# YOUR CODE HERE\n",
    "plt.figure();\n",
    "ending_cumulative_returns.plot(kind='hist', density=True, bins=40, title='90% Confidence interval for the 30 years ending returns')\n",
    "plt.axvline(confidence_interval.iloc[0], color='g')\n",
    "plt.axvline(confidence_interval.iloc[1], color='g')"
   ]
  },
  {
   "cell_type": "markdown",
   "metadata": {},
   "source": [
    "---"
   ]
  },
  {
   "cell_type": "markdown",
   "metadata": {},
   "source": [
    "# Retirement Analysis\n",
    "\n",
    "In this section, you will use the monte carlo model to answer the following retirement planning questions:\n",
    "\n",
    "1. What are the expected cumulative returns at 30 years for the 10th, 50th, and 90th percentiles?\n",
    "2. Given an initial investment of `$20,000`, what is the expected portfolio return in dollars at the 10th, 50th, and 90th percentiles?\n",
    "3. Given the current projected annual income from the Plaid analysis, will a 4% withdraw rate from the retirement portfolio meet or exceed that value at the 10th percentile?\n",
    "4. How would a 50% increase in the initial investment amount affect the 4% retirement withdrawal?"
   ]
  },
  {
   "cell_type": "markdown",
   "metadata": {},
   "source": [
    "### What are the expected cumulative returns at 30 years for the 10th, 50th, and 90th percentiles?"
   ]
  },
  {
   "cell_type": "code",
   "execution_count": 18,
   "metadata": {},
   "outputs": [
    {
     "data": {
      "text/plain": [
       "0.1    0.63\n",
       "0.5    1.41\n",
       "0.9    7.38\n",
       "Name: 5040, dtype: float64"
      ]
     },
     "execution_count": 18,
     "metadata": {},
     "output_type": "execute_result"
    }
   ],
   "source": [
    "# YOUR CODE HERE\n",
    "expected_cumulative_returns = ending_cumulative_returns.quantile(q=[.1,.5,.9]).round(2)\n",
    "expected_cumulative_returns"
   ]
  },
  {
   "cell_type": "markdown",
   "metadata": {},
   "source": [
    "### Given an initial investment of `$20,000`, what is the expected portfolio return in dollars at the 10th, 50th, and 90th percentiles?"
   ]
  },
  {
   "cell_type": "code",
   "execution_count": 19,
   "metadata": {},
   "outputs": [
    {
     "name": "stdout",
     "output_type": "stream",
     "text": [
      "Expected Cumulative Return at 30 year\n",
      "10th Percentile  : 0.63\n",
      "50th Percentile  : 1.41\n",
      "90th Percentile  : 7.38\n"
     ]
    }
   ],
   "source": [
    "# YOUR CODE HERE\n",
    "print('Expected Cumulative Return at 30 year')\n",
    "print(f'10th Percentile  : {expected_cumulative_returns[0.1]}')\n",
    "print(f'50th Percentile  : {expected_cumulative_returns[0.5]}')\n",
    "print(f'90th Percentile  : {expected_cumulative_returns[0.9]}')"
   ]
  },
  {
   "cell_type": "markdown",
   "metadata": {},
   "source": [
    "### Given the current projected annual income from the Plaid analysis, will a 4% withdraw rate from the retirement portfolio meet or exceed that value at the 10th percentile?\n",
    "\n",
    "Note: This is effectively saying that 90% of the expected returns will be greater than the return at the 10th percentile, so this can help measure the uncertainty about having enough funds at retirement"
   ]
  },
  {
   "cell_type": "code",
   "execution_count": 20,
   "metadata": {},
   "outputs": [],
   "source": [
    " # Set initial investment\n",
    "initial_investment = 20000\n",
    "\n",
    "# Calculate investment profit/loss of lower and upper bound cumulative portfolio returns\n",
    "expected_portfolio_return = expected_cumulative_returns*initial_investment\n",
    "expected_portfolio_return\n",
    "four_percent_return = expected_cumulative_returns * .04"
   ]
  },
  {
   "cell_type": "code",
   "execution_count": 21,
   "metadata": {},
   "outputs": [
    {
     "data": {
      "text/plain": [
       "0.0252"
      ]
     },
     "execution_count": 21,
     "metadata": {},
     "output_type": "execute_result"
    }
   ],
   "source": [
    "four_percent_return.iloc[0]"
   ]
  },
  {
   "cell_type": "code",
   "execution_count": 23,
   "metadata": {},
   "outputs": [
    {
     "name": "stdout",
     "output_type": "stream",
     "text": [
      "The measurement shows you may not have enough money for retirement.\n"
     ]
    }
   ],
   "source": [
    "# YOUR CODE HERE\n",
    "projected_annual_income = 6085.0\n",
    "\n",
    "# Checks whether 4% return in retirement portfolio meets Projected annual income\n",
    "if four_percent_return.iloc[0]>projected_annual_income:\n",
    "    print(f\"then the measurement shoes you should have enough money for retirement.\")\n",
    "else:\n",
    "    print(f\"The measurement shows you may not have enough money for retirement.\")\n"
   ]
  },
  {
   "cell_type": "markdown",
   "metadata": {},
   "source": [
    "### How would a 50% increase in the initial investment amount affect the 4% retirement withdrawal?"
   ]
  },
  {
   "cell_type": "code",
   "execution_count": 33,
   "metadata": {},
   "outputs": [
    {
     "name": "stdout",
     "output_type": "stream",
     "text": [
      "The 50% increase in the initial investment amount does not exceed the value at the 10th percentile.\n"
     ]
    }
   ],
   "source": [
    "# YOUR CODE HERE\n",
    "increased_initial_investment = initial_investment * 1.50\n",
    "\n",
    "# Calculate the 4% return for new initial investment\n",
    "new_four_percent_return = (expected_cumulative_returns[0.1]*increased_initial_investment) * 0.04\n",
    "\n",
    "# Checks whether 4% return in retirement portfolio meets Projected annual income\n",
    "if new_four_percent_return>projected_annual_income:\n",
    "    print(f\"The 50% increase in the initial investment amount does exceed the value at the 10th percentile which is {int(new_four_percent_return)}$ after 4% withdraw rate from the retirement portfolio\")\n",
    "else:\n",
    "    print(\"The 50% increase in the initial investment amount does not exceed the value at the 10th percentile.\")\n"
   ]
  },
  {
   "cell_type": "markdown",
   "metadata": {},
   "source": [
    "### Optional Challenge\n",
    "\n",
    "In this section, you will calculate and plot the cumulative returns for the median and 90% confidence intervals. This plot shows the expected cumulative returns for any given day between the first day and the last day of investment. "
   ]
  },
  {
   "cell_type": "code",
   "execution_count": 31,
   "metadata": {},
   "outputs": [
    {
     "data": {
      "text/plain": [
       "[Text(0, 0.5, 'Portfolio Returns'), Text(0.5, 0, 'Number of Days')]"
      ]
     },
     "execution_count": 31,
     "metadata": {},
     "output_type": "execute_result"
    },
    {
     "data": {
      "image/png": "[encoded data removed]",
      "text/plain": [
       "<Figure size 432x288 with 1 Axes>"
      ]
     },
     "metadata": {
      "needs_background": "light"
     },
     "output_type": "display_data"
    }
   ],
   "source": [
    "# YOUR CODE HERE\n",
    "df90 = portfolio_cumulative_returns * initial_investment\n",
    "ax = df90.swapaxes(\"index\", \"columns\").quantile([0.05, 0.5, 0.95]).swapaxes('index', 'columns').plot(title='Portfolio Performance over Time')\n",
    "ax.set(xlabel='Number of Days', ylabel='Portfolio Returns')"
   ]
  },
  {
   "cell_type": "code",
   "execution_count": null,
   "metadata": {},
   "outputs": [],
   "source": [
    "\n"
   ]
  }
 ],
 "metadata": {
  "kernel_info": {
   "name": "dev"
  },
  "kernelspec": {
   "display_name": "Python 3",
   "language": "python",
   "name": "python3"
  },
  "language_info": {
   "codemirror_mode": {
    "name": "ipython",
    "version": 3
   },
   "file_extension": ".py",
   "mimetype": "text/x-python",
   "name": "python",
   "nbconvert_exporter": "python",
   "pygments_lexer": "ipython3",
   "version": "3.7.5"
  },
  "nteract": {
   "version": "0.12.3"
  }
 },
 "nbformat": 4,
 "nbformat_minor": 4
}
